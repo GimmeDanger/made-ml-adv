{
 "cells": [
  {
   "cell_type": "code",
   "execution_count": 1,
   "metadata": {},
   "outputs": [],
   "source": [
    "import pandas as pd"
   ]
  },
  {
   "cell_type": "code",
   "execution_count": 2,
   "metadata": {},
   "outputs": [],
   "source": [
    "#df_players = pd.DataFrame(pd.read_pickle('chgk/players.pkl')).transpose()\n",
    "#df_players.head()"
   ]
  },
  {
   "cell_type": "code",
   "execution_count": 3,
   "metadata": {},
   "outputs": [
    {
     "data": {
      "text/plain": [
       "(1109, 687, 422)"
      ]
     },
     "execution_count": 3,
     "metadata": {},
     "output_type": "execute_result"
    }
   ],
   "source": [
    "df_tournaments = pd.DataFrame(pd.read_pickle('chgk/tournaments.pkl')).transpose()\n",
    "df_tournaments = df_tournaments[df_tournaments.dateStart >= '2019-01-01']\n",
    "tournaments_ids_all = df_tournaments[df_tournaments.dateStart >= '2019-01-01']\n",
    "tournaments_ids_all = set(tournaments_ids_all['id'])\n",
    "tournaments_ids_test = df_tournaments[df_tournaments.dateStart >= '2020-01-01']\n",
    "tournaments_ids_test = set(tournaments_ids_test['id'])\n",
    "tournaments_ids_train = tournaments_ids_all.difference(tournaments_ids_test)\n",
    "len(tournaments_ids_all), len(tournaments_ids_train), len(tournaments_ids_test)"
   ]
  },
  {
   "cell_type": "code",
   "execution_count": 4,
   "metadata": {},
   "outputs": [
    {
     "name": "stdout",
     "output_type": "stream",
     "text": [
      "full dataframe length =  5528\n",
      "cleared dataframe length =  840\n"
     ]
    }
   ],
   "source": [
    "df_results = pd.read_pickle('chgk/results.pkl')\n",
    "print(\"full dataframe length = \", len(df_results))\n",
    "results_all = {}\n",
    "for k, v in df_results.items():\n",
    "    # игнорируем турниры до 2019 года, а также пустые записи\n",
    "    if k in tournaments_ids_all and len(v) > 0:\n",
    "        valid = True\n",
    "        # игнорируем турниры, где нет нужных нам валидных полей\n",
    "        for team_data in v:\n",
    "            if 'team' not in team_data or 'mask' not in team_data or 'teamMembers' not in team_data:\n",
    "                valid = False\n",
    "                continue\n",
    "            if team_data['mask'] is None or team_data['team'] is None or team_data['teamMembers'] is None:\n",
    "                valid = False\n",
    "                continue\n",
    "        if valid:\n",
    "            results_all[k] = v\n",
    "print(\"cleared dataframe length = \", len(results_all))\n",
    "df_results = results_all\n",
    "results_all = [] # erase from dram"
   ]
  },
  {
   "cell_type": "code",
   "execution_count": 11,
   "metadata": {},
   "outputs": [
    {
     "data": {
      "text/html": [
       "<div>\n",
       "<style scoped>\n",
       "    .dataframe tbody tr th:only-of-type {\n",
       "        vertical-align: middle;\n",
       "    }\n",
       "\n",
       "    .dataframe tbody tr th {\n",
       "        vertical-align: top;\n",
       "    }\n",
       "\n",
       "    .dataframe thead th {\n",
       "        text-align: right;\n",
       "    }\n",
       "</style>\n",
       "<table border=\"1\" class=\"dataframe\">\n",
       "  <thead>\n",
       "    <tr style=\"text-align: right;\">\n",
       "      <th></th>\n",
       "      <th>tournament_id</th>\n",
       "      <th>team_id</th>\n",
       "      <th>player_id</th>\n",
       "      <th>mask</th>\n",
       "    </tr>\n",
       "  </thead>\n",
       "  <tbody>\n",
       "    <tr>\n",
       "      <th>0</th>\n",
       "      <td>4772</td>\n",
       "      <td>45556</td>\n",
       "      <td>6212</td>\n",
       "      <td>111111111011111110111111111100010010</td>\n",
       "    </tr>\n",
       "    <tr>\n",
       "      <th>1</th>\n",
       "      <td>4772</td>\n",
       "      <td>45556</td>\n",
       "      <td>18332</td>\n",
       "      <td>111111111011111110111111111100010010</td>\n",
       "    </tr>\n",
       "    <tr>\n",
       "      <th>2</th>\n",
       "      <td>4772</td>\n",
       "      <td>45556</td>\n",
       "      <td>18036</td>\n",
       "      <td>111111111011111110111111111100010010</td>\n",
       "    </tr>\n",
       "    <tr>\n",
       "      <th>3</th>\n",
       "      <td>4772</td>\n",
       "      <td>45556</td>\n",
       "      <td>22799</td>\n",
       "      <td>111111111011111110111111111100010010</td>\n",
       "    </tr>\n",
       "    <tr>\n",
       "      <th>4</th>\n",
       "      <td>4772</td>\n",
       "      <td>45556</td>\n",
       "      <td>15456</td>\n",
       "      <td>111111111011111110111111111100010010</td>\n",
       "    </tr>\n",
       "  </tbody>\n",
       "</table>\n",
       "</div>"
      ],
      "text/plain": [
       "   tournament_id  team_id  player_id                                  mask\n",
       "0           4772    45556       6212  111111111011111110111111111100010010\n",
       "1           4772    45556      18332  111111111011111110111111111100010010\n",
       "2           4772    45556      18036  111111111011111110111111111100010010\n",
       "3           4772    45556      22799  111111111011111110111111111100010010\n",
       "4           4772    45556      15456  111111111011111110111111111100010010"
      ]
     },
     "execution_count": 11,
     "metadata": {},
     "output_type": "execute_result"
    }
   ],
   "source": [
    "df_results_cleaned = []\n",
    "for k, v in df_results.items():\n",
    "    for team_data in v:\n",
    "        team = team_data['team']\n",
    "        mask = str(team_data['mask']).replace('X', '0').replace('?', '0')\n",
    "        players = team_data['teamMembers']\n",
    "        for player in players:\n",
    "            df_results_cleaned.append([k, team['id'], player['player']['id'], mask])\n",
    "df_results = pd.DataFrame(df_results_cleaned)\n",
    "df_results.columns = ['tournament_id', 'team_id', 'player_id', 'mask']\n",
    "df_results.head()"
   ]
  },
  {
   "cell_type": "code",
   "execution_count": 14,
   "metadata": {},
   "outputs": [
    {
     "data": {
      "text/plain": [
       "((451119, 4), (108877, 4))"
      ]
     },
     "execution_count": 14,
     "metadata": {},
     "output_type": "execute_result"
    }
   ],
   "source": [
    "df_train = df_results[df_results.tournament_id.isin(tournaments_ids_train)]\n",
    "df_test = df_results[df_results.tournament_id.isin(tournaments_ids_test)]\n",
    "df_results = [] #erase from dram\n",
    "df_train.shape, df_test.shape"
   ]
  },
  {
   "cell_type": "code",
   "execution_count": 16,
   "metadata": {},
   "outputs": [
    {
     "data": {
      "text/html": [
       "<div>\n",
       "<style scoped>\n",
       "    .dataframe tbody tr th:only-of-type {\n",
       "        vertical-align: middle;\n",
       "    }\n",
       "\n",
       "    .dataframe tbody tr th {\n",
       "        vertical-align: top;\n",
       "    }\n",
       "\n",
       "    .dataframe thead th {\n",
       "        text-align: right;\n",
       "    }\n",
       "</style>\n",
       "<table border=\"1\" class=\"dataframe\">\n",
       "  <thead>\n",
       "    <tr style=\"text-align: right;\">\n",
       "      <th></th>\n",
       "      <th>tournament_id</th>\n",
       "      <th>team_id</th>\n",
       "      <th>player_id</th>\n",
       "      <th>question_local_id</th>\n",
       "      <th>target</th>\n",
       "    </tr>\n",
       "  </thead>\n",
       "  <tbody>\n",
       "    <tr>\n",
       "      <th>0</th>\n",
       "      <td>4772</td>\n",
       "      <td>45556</td>\n",
       "      <td>6212</td>\n",
       "      <td>0</td>\n",
       "      <td>1</td>\n",
       "    </tr>\n",
       "    <tr>\n",
       "      <th>1</th>\n",
       "      <td>4772</td>\n",
       "      <td>45556</td>\n",
       "      <td>6212</td>\n",
       "      <td>1</td>\n",
       "      <td>1</td>\n",
       "    </tr>\n",
       "    <tr>\n",
       "      <th>2</th>\n",
       "      <td>4772</td>\n",
       "      <td>45556</td>\n",
       "      <td>6212</td>\n",
       "      <td>2</td>\n",
       "      <td>1</td>\n",
       "    </tr>\n",
       "    <tr>\n",
       "      <th>3</th>\n",
       "      <td>4772</td>\n",
       "      <td>45556</td>\n",
       "      <td>6212</td>\n",
       "      <td>3</td>\n",
       "      <td>1</td>\n",
       "    </tr>\n",
       "    <tr>\n",
       "      <th>4</th>\n",
       "      <td>4772</td>\n",
       "      <td>45556</td>\n",
       "      <td>6212</td>\n",
       "      <td>4</td>\n",
       "      <td>1</td>\n",
       "    </tr>\n",
       "  </tbody>\n",
       "</table>\n",
       "</div>"
      ],
      "text/plain": [
       "   tournament_id  team_id  player_id  question_local_id target\n",
       "0           4772    45556       6212                  0      1\n",
       "1           4772    45556       6212                  1      1\n",
       "2           4772    45556       6212                  2      1\n",
       "3           4772    45556       6212                  3      1\n",
       "4           4772    45556       6212                  4      1"
      ]
     },
     "execution_count": 16,
     "metadata": {},
     "output_type": "execute_result"
    }
   ],
   "source": [
    "# Need to loops, because one loop requires too much memory\n",
    "df_results_cleaned = []\n",
    "for _, row in df_train.iterrows():\n",
    "    tt_id = row['tournament_id']\n",
    "    tm_id = row['team_id']\n",
    "    pr_id = row['player_id']\n",
    "    mask = row['mask']\n",
    "    for idx in range(len(mask)):\n",
    "        df_results_cleaned.append([tt_id, tm_id, pr_id, idx, mask[idx]])\n",
    "df = pd.DataFrame(df_results_cleaned)\n",
    "df.columns = ['tournament_id', 'team_id', 'player_id', 'question_local_id', 'target']\n",
    "df.head()"
   ]
  },
  {
   "cell_type": "code",
   "execution_count": null,
   "metadata": {},
   "outputs": [],
   "source": []
  },
  {
   "cell_type": "code",
   "execution_count": null,
   "metadata": {},
   "outputs": [],
   "source": []
  }
 ],
 "metadata": {
  "kernelspec": {
   "display_name": "Python 3",
   "language": "python",
   "name": "python3"
  },
  "language_info": {
   "codemirror_mode": {
    "name": "ipython",
    "version": 3
   },
   "file_extension": ".py",
   "mimetype": "text/x-python",
   "name": "python",
   "nbconvert_exporter": "python",
   "pygments_lexer": "ipython3",
   "version": "3.8.0"
  }
 },
 "nbformat": 4,
 "nbformat_minor": 4
}
