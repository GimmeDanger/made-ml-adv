{
 "cells": [
  {
   "cell_type": "markdown",
   "metadata": {},
   "source": [
    "# Part-2: Baseline with logreg for user rating"
   ]
  },
  {
   "cell_type": "markdown",
   "metadata": {},
   "source": [
    "Постройте baseline-модель на основе линейной или логистической регрессии, которая будет обучать рейтинг-лист игроков. Замечания и подсказки:\n",
    "* повопросные результаты — это фактически результаты броска монетки, и их предсказание скорее всего имеет отношение к бинарной классификации;\n",
    "* в разных турнирах вопросы совсем разного уровня сложности, поэтому модель должна это учитывать; скорее всего, модель должна будет явно обучать не только силу каждого игрока, но и сложность каждого вопроса;\n",
    "* для baseline-модели можно забыть о командах и считать, что повопросные результаты команды просто относятся к каждому из её игроков.\n"
   ]
  },
  {
   "cell_type": "code",
   "execution_count": 7,
   "metadata": {},
   "outputs": [],
   "source": [
    "import pickle\n",
    "import pandas as pd\n",
    "from sklearn.linear_model import LogisticRegression\n",
    "from sklearn.preprocessing import OneHotEncoder\n",
    "from sklearn.compose import ColumnTransformer\n",
    "from sklearn.pipeline import Pipeline\n",
    "\n",
    "TRAIN_MODE = False"
   ]
  },
  {
   "cell_type": "code",
   "execution_count": 2,
   "metadata": {},
   "outputs": [],
   "source": [
    "# source: https://stackoverflow.com/questions/19201290/how-to-save-a-dictionary-to-a-file/32216025\n",
    "\n",
    "def save_obj(obj, name ):\n",
    "    with open('obj/'+ name + '.pkl', 'wb') as f:\n",
    "        pickle.dump(obj, f, pickle.HIGHEST_PROTOCOL)\n",
    "\n",
    "def load_obj(name ):\n",
    "    with open('obj/' + name + '.pkl', 'rb') as f:\n",
    "        return pickle.load(f)"
   ]
  },
  {
   "cell_type": "markdown",
   "metadata": {},
   "source": [
    "### Схема baseline:\n",
    "#### 1) Преобразуем 'tournament_id', 'player_id' в one-hot-фичи\n",
    "#### 2)  Обучаем logreg на целевой переменной target (ответил / не ответил на вопрос)\n",
    "#### 3) Сохраняем финальные веса фичей пользователей (one-hot из player_id), это и есть рейтинг"
   ]
  },
  {
   "cell_type": "code",
   "execution_count": 8,
   "metadata": {},
   "outputs": [],
   "source": [
    "if TRAIN_MODE:\n",
    "    # get preprocessed df ('tournament_id', 'team_id', 'player_id', 'question_local_id', 'target')\n",
    "    df = pd.read_csv('train.zip').drop(columns=['team_id', 'question_local_id'])\n",
    "    \n",
    "    # construct pipeline with one-hot-encoder and logreg\n",
    "    feature_generation = ColumnTransformer(\n",
    "        transformers=[\n",
    "            ('OneHot', OneHotEncoder(), ['tournament_id', 'player_id'])\n",
    "        ],\n",
    "        remainder='drop',\n",
    "        sparse_threshold=1\n",
    "    )\n",
    "    pipe = Pipeline(\n",
    "        verbose=True,\n",
    "        steps=[\n",
    "            ('feature_generation', feature_generation),\n",
    "            ('classifier', LogisticRegression(solver='liblinear', max_iter=100))\n",
    "        ]\n",
    "    )\n",
    "    \n",
    "    # train\n",
    "    pipe.fit(df[['tournament_id', 'player_id']], df['target'])\n",
    "    \n",
    "    # save player weights (~raiting)\n",
    "    player_features_start_pos = df.nunique()['tournament_id']\n",
    "    player_features_names = pipe['feature_generation'].get_feature_names()[player_features_start_pos:]\n",
    "    assert(len(player_features_names) == df.nunique()['player_id'])\n",
    "    player_ids = [int(name[11:]) for name in player_features_names]\n",
    "    \n",
    "    player_weights = pipe['classifier'].coef_[0][player_features_start_pos:]\n",
    "    assert(len(player_weights) == df.nunique()['player_id'])\n",
    "    \n",
    "    player_to_weight = dict(zip(player_ids, player_weights))\n",
    "    save_obj(player_to_weight, 'player_to_weight')"
   ]
  },
  {
   "cell_type": "code",
   "execution_count": 9,
   "metadata": {},
   "outputs": [],
   "source": [
    "if not TRAIN_MODE:\n",
    "    player_to_weight = load_obj('player_to_weight')"
   ]
  },
  {
   "cell_type": "markdown",
   "metadata": {},
   "source": [
    "### Грубая проверка: сравним top-100 официального рейтинга и предсказания\n",
    "#### Официальный рейтинг: https://rating.chgk.info/players.php"
   ]
  },
  {
   "cell_type": "code",
   "execution_count": 37,
   "metadata": {},
   "outputs": [],
   "source": [
    "official_top_100_ids = pd.read_csv('players-official-top-1000.csv')[:100]\n",
    "official_top_100_ids = set(official_top_100_ids[' ИД'])"
   ]
  },
  {
   "cell_type": "code",
   "execution_count": 41,
   "metadata": {},
   "outputs": [],
   "source": [
    "player_to_weight_sorted = sorted(player_to_weight.items(), key=lambda kv: kv[1], reverse=True)\n",
    "predicted_top_100_ids = set(k for k, v in player_to_weight_sorted[:100])"
   ]
  },
  {
   "cell_type": "code",
   "execution_count": 45,
   "metadata": {},
   "outputs": [
    {
     "data": {
      "text/plain": [
       "53"
      ]
     },
     "execution_count": 45,
     "metadata": {},
     "output_type": "execute_result"
    }
   ],
   "source": [
    "len(official_top_100_ids.intersection(predicted_top_100_ids))"
   ]
  },
  {
   "cell_type": "markdown",
   "metadata": {},
   "source": [
    "### Модель смогла предсказать больше 53 игрока из топ 100.\n",
    "#### Т.е грубая проверка показывает, что большие веса получили сильные игроки. Основная валидация на тестовых данных в Part-3"
   ]
  }
 ],
 "metadata": {
  "kernelspec": {
   "display_name": "Python 3",
   "language": "python",
   "name": "python3"
  },
  "language_info": {
   "codemirror_mode": {
    "name": "ipython",
    "version": 3
   },
   "file_extension": ".py",
   "mimetype": "text/x-python",
   "name": "python",
   "nbconvert_exporter": "python",
   "pygments_lexer": "ipython3",
   "version": "3.8.0"
  }
 },
 "nbformat": 4,
 "nbformat_minor": 4
}
