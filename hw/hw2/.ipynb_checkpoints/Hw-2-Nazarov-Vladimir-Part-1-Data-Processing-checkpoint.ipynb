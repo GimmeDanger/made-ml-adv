{
 "cells": [
  {
   "cell_type": "markdown",
   "metadata": {},
   "source": [
    "# Part-1: Data Processing"
   ]
  },
  {
   "cell_type": "markdown",
   "metadata": {},
   "source": [
    "Данные: https://www.dropbox.com/s/s4qj0fpsn378m2i/chgk.zip \n",
    "\n",
    "Прочитайте и проанализируйте данные, выберите турниры, в которых есть данные о составах команд и повопросных результатах (поле mask в results.pkl). Для унификации предлагаю:\n",
    "* взять в тренировочный набор турниры с dateStart из 2019 года; \n",
    "* в тестовый — турниры с dateStart из 2020 года."
   ]
  },
  {
   "cell_type": "code",
   "execution_count": 1,
   "metadata": {},
   "outputs": [],
   "source": [
    "import pickle\n",
    "import pandas as pd"
   ]
  },
  {
   "cell_type": "code",
   "execution_count": 2,
   "metadata": {},
   "outputs": [],
   "source": [
    "# source: https://stackoverflow.com/questions/19201290/how-to-save-a-dictionary-to-a-file/32216025\n",
    "\n",
    "def save_obj(obj, name ):\n",
    "    with open('obj/'+ name + '.pkl', 'wb') as f:\n",
    "        pickle.dump(obj, f, pickle.HIGHEST_PROTOCOL)\n",
    "\n",
    "def load_obj(name ):\n",
    "    with open('obj/' + name + '.pkl', 'rb') as f:\n",
    "        return pickle.load(f)"
   ]
  },
  {
   "cell_type": "markdown",
   "metadata": {},
   "source": [
    "### Достаем ids турниров (2019 -- train, 2020 -- test)"
   ]
  },
  {
   "cell_type": "code",
   "execution_count": 3,
   "metadata": {},
   "outputs": [
    {
     "data": {
      "text/plain": [
       "(1109, 687, 422)"
      ]
     },
     "execution_count": 3,
     "metadata": {},
     "output_type": "execute_result"
    }
   ],
   "source": [
    "df_tournaments = pd.DataFrame(pd.read_pickle('chgk/tournaments.pkl')).transpose()\n",
    "df_tournaments = df_tournaments[df_tournaments.dateStart >= '2019-01-01']\n",
    "\n",
    "tournaments_ids_all = df_tournaments[df_tournaments.dateStart >= '2019-01-01']\n",
    "tournaments_ids_all = set(tournaments_ids_all['id'])\n",
    "save_obj(tournaments_ids_all, 'tournaments_ids_all')\n",
    "\n",
    "tournaments_ids_test = df_tournaments[df_tournaments.dateStart >= '2020-01-01']\n",
    "tournaments_ids_test = set(tournaments_ids_test['id'])\n",
    "save_obj(tournaments_ids_test, 'tournaments_ids_test')\n",
    "\n",
    "tournaments_ids_train = tournaments_ids_all.difference(tournaments_ids_test)\n",
    "save_obj(tournaments_ids_train, 'tournaments_ids_train')\n",
    "\n",
    "len(tournaments_ids_all), len(tournaments_ids_train), len(tournaments_ids_test)"
   ]
  },
  {
   "cell_type": "markdown",
   "metadata": {},
   "source": [
    "### Среди всех турниров оставляем только турниры:\n",
    "* нужных лет (2019-2020);\n",
    "* с mask для всех участников (повопросные ответы)\n",
    "* с teamMembers для всех участников (данные об участниках)"
   ]
  },
  {
   "cell_type": "code",
   "execution_count": 4,
   "metadata": {},
   "outputs": [
    {
     "name": "stdout",
     "output_type": "stream",
     "text": [
      "full dataframe length =  5528\n",
      "cleared dataframe length =  169\n"
     ]
    }
   ],
   "source": [
    "def get_results_df(tournament_ids):\n",
    "    df_results = pd.read_pickle('chgk/results.pkl')\n",
    "    print(\"full dataframe length = \", len(df_results))\n",
    "    results_all = {}\n",
    "    for k, v in df_results.items():\n",
    "        # игнорируем турниры до 2019 года, а также пустые записи\n",
    "        if k in tournament_ids and len(v) > 0:\n",
    "            valid = True\n",
    "            # игнорируем турниры, где нет нужных нам валидных полей\n",
    "            for team_data in v:\n",
    "                if 'team' not in team_data or 'mask' not in team_data or 'teamMembers' not in team_data:\n",
    "                    valid = False\n",
    "                    continue\n",
    "                if team_data['mask'] is None or team_data['team'] is None or team_data['teamMembers'] is None:\n",
    "                    valid = False\n",
    "                    continue\n",
    "            if valid:\n",
    "                results_all[k] = v\n",
    "    print(\"cleared dataframe length = \", len(results_all))\n",
    "    return results_all\n",
    "\n",
    "df_test = get_results_df(tournaments_ids_test)\n",
    "save_obj(df_test, 'test')"
   ]
  },
  {
   "cell_type": "markdown",
   "metadata": {},
   "source": [
    "### Преобразуем в датафрейм ('tournament_id', 'team_id', 'player_id', 'mask')"
   ]
  },
  {
   "cell_type": "code",
   "execution_count": 5,
   "metadata": {},
   "outputs": [
    {
     "name": "stdout",
     "output_type": "stream",
     "text": [
      "full dataframe length =  5528\n",
      "cleared dataframe length =  671\n"
     ]
    }
   ],
   "source": [
    "def unwrap_player(df):\n",
    "    df_results_cleaned = []\n",
    "    for k, v in df.items():\n",
    "        for team_data in v:\n",
    "            team = team_data['team']\n",
    "            mask = str(team_data['mask']).replace('X', '0').replace('?', '0')\n",
    "            players = team_data['teamMembers']\n",
    "            for player in players:\n",
    "                df_results_cleaned.append([k, team['id'], player['player']['id'], mask])\n",
    "    df = pd.DataFrame(df_results_cleaned)\n",
    "    df.columns = ['tournament_id', 'team_id', 'player_id', 'mask']\n",
    "    return df\n",
    "\n",
    "df_train = get_results_df(tournaments_ids_train)\n",
    "df_train = unwrap_player(df_train)"
   ]
  },
  {
   "cell_type": "markdown",
   "metadata": {},
   "source": [
    "### Преобразуем в датафрейм ('tournament_id', 'team_id', 'player_id', 'question_local_id', 'target')\n",
    "#### Замечание: для этого разворачиваем mask -> (question_local_id, target)"
   ]
  },
  {
   "cell_type": "code",
   "execution_count": null,
   "metadata": {},
   "outputs": [],
   "source": [
    "def unwrap_mask(df):\n",
    "    df_results_cleaned = []\n",
    "    for _, row in df.iterrows():\n",
    "        tt_id = row['tournament_id']\n",
    "        tm_id = row['team_id']\n",
    "        pr_id = row['player_id']\n",
    "        mask = row['mask']\n",
    "        for idx in range(len(mask)):\n",
    "            df_results_cleaned.append([tt_id, tm_id, pr_id, idx, mask[idx]])\n",
    "    df = pd.DataFrame(df_results_cleaned)\n",
    "    df.columns = ['tournament_id', 'team_id', 'player_id', 'question_local_id', 'target']\n",
    "    return df\n",
    "\n",
    "df_train = unwrap_mask(df_train)\n",
    "save_obj(df_train, 'train')"
   ]
  }
 ],
 "metadata": {
  "kernelspec": {
   "display_name": "Python 3",
   "language": "python",
   "name": "python3"
  },
  "language_info": {
   "codemirror_mode": {
    "name": "ipython",
    "version": 3
   },
   "file_extension": ".py",
   "mimetype": "text/x-python",
   "name": "python",
   "nbconvert_exporter": "python",
   "pygments_lexer": "ipython3",
   "version": "3.8.0"
  }
 },
 "nbformat": 4,
 "nbformat_minor": 4
}
