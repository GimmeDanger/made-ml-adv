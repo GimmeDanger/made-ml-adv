{
 "cells": [
  {
   "cell_type": "code",
   "execution_count": null,
   "metadata": {},
   "outputs": [],
   "source": [
    "import pandas as pd\n",
    "import numpy as np\n",
    "import pymc3 as pm\n",
    "import matplotlib as mpl\n",
    "import matplotlib.pyplot as plt\n",
    "import seaborn as sns\n",
    "import warnings\n",
    "warnings.filterwarnings('ignore')\n",
    "from collections import OrderedDict\n",
    "from time import time\n",
    "\n",
    "import numpy as np\n",
    "import scipy as sp\n",
    "import pandas as pd\n",
    "\n",
    "from scipy.optimize import fmin_powell\n",
    "from scipy import integrate\n",
    "from scipy import linalg\n",
    "\n",
    "from sklearn.preprocessing import normalize\n",
    "from sklearn import linear_model\n",
    "from sklearn.utils.testing import ignore_warnings\n",
    "from sklearn.exceptions import ConvergenceWarning\n",
    "\n",
    "np.set_printoptions(precision=4, suppress=True)\n",
    "\n",
    "from collections import Counter\n",
    "from Levenshtein import distance as levenshtein_distance\n",
    "\n",
    "sns.set_style(\"whitegrid\")\n",
    "sns.set_palette(\"colorblind\")\n",
    "palette = sns.color_palette()\n",
    "figsize = (15,8)\n",
    "legend_fontsize = 16\n",
    "\n",
    "from matplotlib import rc\n",
    "rc('font',**{'family':'sans-serif'})\n",
    "rc('text', usetex=True)\n",
    "rc('text.latex',preamble=r'\\usepackage[utf8]{inputenc}')\n",
    "rc('text.latex',preamble=r'\\usepackage[russian]{babel}')\n",
    "rc('axes', **{'titlesize': '16', 'labelsize': '16'})\n",
    "rc('legend', **{'fontsize': '16'})\n",
    "rc('figure', **{'dpi' : 300})"
   ]
  },
  {
   "cell_type": "code",
   "execution_count": null,
   "metadata": {},
   "outputs": [],
   "source": [
    "def sample_mixture(N, pi, mu1, sigma1, mu2, sigma2):\n",
    "    z = np.array( np.random.rand(N) < pi, dtype=int)\n",
    "    res = np.zeros((N, 2))\n",
    "    res[np.where(z == 1)] = np.random.multivariate_normal(mu1, sigma1, np.sum(z))\n",
    "    res[np.where(z == 0)] = np.random.multivariate_normal(mu2, sigma2, N-np.sum(z))\n",
    "    return z, res\n",
    "\n",
    "def sample_two_classes(mu1, sigma1, mu2, sigma2, pi=0.5, N=200, Ntest=None):\n",
    "    z, x = sample_mixture(N, pi, mu1, sigma1, mu2, sigma2)\n",
    "    if Ntest is None:\n",
    "        return z, x\n",
    "    else:\n",
    "        test_z, test_x = sample_mixture(Ntest, pi, mu1, sigma1, mu2, sigma2)\n",
    "        return z, x, test_z, test_x\n",
    "\n",
    "def plot_points(ax, x, z, mus=None, mu1=None, mu2=None, sigmas=None, points_alpha=1.0, colors=['r', 'b', 'g', 'magenta', 'grey', 'purple', 'darkgreen', 'orange', 'black']):\n",
    "    print(set(z))\n",
    "    for i in set(z):\n",
    "        ax.scatter(x[np.where(z==i), 0], x[np.where(z==i), 1], marker='.', color=colors[i % 9], alpha=points_alpha)\n",
    "        if sigmas is not None:\n",
    "            plot_ellipse(ax, mus[i], sigmas[i], colors[i % 9])\n",
    "    if mus is not None:\n",
    "        for i in range(mus.shape[0]):\n",
    "            ax.scatter([mus[i, 0]], [mus[i, 1]], marker='*', s=200, color=colors[i % 9])\n",
    "    if mu1 is not None:\n",
    "        for i in range(mu1.shape[0]):\n",
    "            ax.scatter([mu1[i, 0]], [mu1[i, 1]], marker='*', s=200, color=colors[0])\n",
    "    if mu2 is not None:\n",
    "        for i in range(mu2.shape[0]):\n",
    "            ax.scatter([mu2[i, 0]], [mu2[i, 1]], marker='*', s=200, color=colors[1])\n",
    "\n",
    "from matplotlib import colors\n",
    "cmap = colors.LinearSegmentedColormap(\n",
    "    'red_blue_classes',\n",
    "    {'red': [(0, 1, 1), (1, 0.7, 0.7)],\n",
    "     'green': [(0, 0.7, 0.7), (1, 0.7, 0.7)],\n",
    "     'blue': [(0, 0.7, 0.7), (1, 1, 1)]})\n",
    "\n",
    "def plot_ellipse(ax, mu, sigma, color):\n",
    "    v, w = sp.linalg.eigh(sigma)\n",
    "    u = w[0] / sp.linalg.norm(w[0])\n",
    "    angle = np.arctan(u[1] / u[0])\n",
    "    angle = 180 * angle / np.pi\n",
    "    ell = mpl.patches.Ellipse(mu, 2 * v[0] ** 0.5, 2 * v[1] ** 0.5,\n",
    "                              180 + angle, facecolor=color,\n",
    "                              edgecolor='black', linewidth=2)\n",
    "    ell.set_clip_box(ax.bbox)\n",
    "    ell.set_alpha(0.2)\n",
    "    ax.add_artist(ell)\n",
    "    ax.scatter(mu[0], mu[1], marker='+', color=color, s=100)\n",
    "\n",
    "def get_meshgrid(nx=200, ny=200):\n",
    "    x_min, x_max = plt.xlim()\n",
    "    y_min, y_max = plt.ylim()\n",
    "    return np.meshgrid(np.linspace(x_min, x_max, nx), np.linspace(y_min, y_max, ny))\n",
    "\n",
    "def plot_colormesh(ax, model):\n",
    "    xx, yy = get_meshgrid()\n",
    "    Z = model.predict_proba(np.c_[xx.ravel(), yy.ravel()])\n",
    "    Z = Z[:, 1].reshape(xx.shape)\n",
    "    plt.pcolormesh(xx, yy, Z, cmap=cmap,\n",
    "                   norm=colors.Normalize(0., 1.), zorder=0)\n",
    "    plt.contour(xx, yy, Z, [0.5], linewidths=2., colors='white')\n",
    "\n",
    "def plot_colormesh_svm(ax, model):\n",
    "    xx, yy = get_meshgrid()\n",
    "    Z = model.decision_function(np.c_[xx.ravel(), yy.ravel()]).reshape(xx.shape)\n",
    "    ax.pcolormesh(xx, yy, Z, cmap=cmap,\n",
    "                   norm=colors.Normalize(0., 1.), zorder=0)\n",
    "    ax.contour(xx, yy, Z, [-1, 0, 1], linewidths=2., colors='white', linestyles=['--', '-', '--'])\n",
    "\n",
    "def plot_svm_decision(ax, model, xx, yy):\n",
    "    Z = model.decision_function(np.c_[xx.ravel(), yy.ravel()]).reshape(xx.shape)\n",
    "    ax.contour(xx, yy, Z, [0], linewidths=.5, colors='black', linestyles=['-'])\n",
    "\n",
    "def plot_svm_decisions(ax, models):\n",
    "    xx, yy = get_meshgrid()\n",
    "    for model in models:\n",
    "        plot_svm_decision(ax, model, xx, yy)\n",
    "        \n",
    "def sample_rings(rad_inner, rad_outer, rad_inner2, rad_outer2, pi=0.5, N=200, Ntest=None):\n",
    "    z = np.array( np.random.rand(N) < pi, dtype=int)\n",
    "    rs = ( rad_inner + (rad_inner - rad_outer) * np.random.rand(np.sum(z)) )\n",
    "    thetas = 2 * np.pi * np.random.rand(np.sum(z))\n",
    "    rs2 = ( rad_inner2 + (rad_inner2 - rad_outer2) * np.random.rand(N - np.sum(z)) )\n",
    "    thetas2 = 2 * np.pi * np.random.rand(N - np.sum(z))\n",
    "    \n",
    "    res = np.zeros((N, 2))\n",
    "    res[np.where(z == 1)] = np.array([ rs * np.cos(thetas), rs * np.sin(thetas) ]).T\n",
    "    res[np.where(z == 0)] = np.array([ rs2 * np.cos(thetas2), rs2 * np.sin(thetas2) ]).T\n",
    "    return z, res\n",
    "\n",
    "def sample_mixture(N, pi, mu1, sigma1, mu2, sigma2):\n",
    "    z = np.array( np.random.rand(N) < pi, dtype=int)\n",
    "    res = np.zeros((N, 2))\n",
    "    res[np.where(z == 1)] = np.random.multivariate_normal(mu1, sigma1, np.sum(z))\n",
    "    res[np.where(z == 0)] = np.random.multivariate_normal(mu2, sigma2, N-np.sum(z))\n",
    "    return z, res\n",
    "\n",
    "def sample_mixtures(mu0=np.array([ [-1,-1], [1,1] ]), sigma0=2, k=5, pi=0.5, df=4, N=200, Ntest=None):\n",
    "    z = np.array( np.random.rand(N) < pi, dtype=int)\n",
    "    res = np.zeros((N, 2))\n",
    "    mus, sigmas = [], []\n",
    "    for i, n in zip(range(2), [N-np.sum(z), np.sum(z)]):\n",
    "        mus.append( np.random.multivariate_normal(mu0[i], sigma0 * np.identity(2), k) )\n",
    "        sigmas.append( sp.stats.invwishart.rvs(df, np.identity(2), size=k) )\n",
    "        mixture_ind = np.random.randint(k, size=n)\n",
    "        cur_res = np.zeros((n, 2))\n",
    "        for j in range(k):\n",
    "            cur_indices = np.where(mixture_ind == j)[0]\n",
    "            cur_res[cur_indices] = np.random.multivariate_normal(mus[-1][j], sigmas[-1][j], len(cur_indices))\n",
    "        res[np.where(z == i)] = cur_res\n",
    "    return z, res, mus, sigmas\n",
    "\n",
    "def sample_oneclass_mixture(mu0=np.array([0, 0]), sigma0=2, k=5, pi=None, df=4, N=200, Ntest=None):\n",
    "    mus = np.random.multivariate_normal(mu0, sigma0 * np.identity(2), k)\n",
    "    sigmas = sp.stats.invwishart.rvs(df, np.identity(2), size=k)\n",
    "    mixture_ind = np.random.randint(k, size=N)\n",
    "    res = np.zeros((N, 2))\n",
    "    for j in range(k):\n",
    "        cur_indices = np.where(mixture_ind == j)[0]\n",
    "        res[cur_indices] = np.random.multivariate_normal(mus[j], sigmas[j], len(cur_indices))\n",
    "    return np.eye(k)[mixture_ind], res, mus, sigmas\n"
   ]
  },
  {
   "cell_type": "markdown",
   "metadata": {},
   "source": [
    "## EM-алгоритм для кластеризации"
   ]
  },
  {
   "cell_type": "code",
   "execution_count": null,
   "metadata": {},
   "outputs": [],
   "source": [
    "k = 4\n",
    "z, x, true_mus, true_sigmas = sample_oneclass_mixture(k=k, sigma0=2, df=20, N=300)\n",
    "\n",
    "fig = plt.figure(figsize=(15,8))\n",
    "ax = fig.add_subplot(111)\n",
    "plot_points(ax, x, np.argmax(z, axis=1), mus=true_mus, sigmas=2 * true_sigmas, points_alpha=.5)\n",
    "plt.show()"
   ]
  },
  {
   "cell_type": "code",
   "execution_count": null,
   "metadata": {},
   "outputs": [],
   "source": [
    "def e_step(xs, pis, mus, sigmas):\n",
    "    k = mus.shape[0]\n",
    "    z = np.array([ pis[i] * sp.stats.multivariate_normal.pdf(xs, mean=mus[i], cov=sigmas[i]) for i in range(k) ])\n",
    "    ## здесь z_{nk} = p(C_k)p(x_n|C_k)\n",
    "    z = np.divide( z, np.sum(z, axis=0) ).T\n",
    "    ## z_{nk} = p(C_k|x_n)\n",
    "    return z\n",
    "\n",
    "def m_step(xs, z):\n",
    "    k = z.shape[1]\n",
    "    pis = np.sum(z, axis=0) / np.sum(z)\n",
    "    mus = np.array([np.average(xs, weights=z[:,i], axis=0) for i in range(k)])\n",
    "    sigmas = np.array([np.cov(xs.T, aweights=z[:,i]) for i in range(k)])\n",
    "    return pis, mus, sigmas\n",
    "\n",
    "def loglikelihood(xs, pis, mus, sigmas):\n",
    "    k = mus.shape[0]\n",
    "    return np.sum(np.log(np.sum(np.array([ pis[i] * sp.stats.multivariate_normal.pdf(xs, mean=mus[i], cov=sigmas[i]) for i in range(k) ]), axis=0)))"
   ]
  },
  {
   "cell_type": "code",
   "execution_count": null,
   "metadata": {},
   "outputs": [],
   "source": [
    "k = 4\n",
    "mus = x[ np.random.choice(x.shape[0], size=k, replace=False), : ]\n",
    "sigmas = np.array( [ np.identity(2) for _ in range(k) ] )\n",
    "pis = (1./k) * np.ones(k)\n",
    "z = e_step( x, pis, mus, sigmas)\n",
    "\n",
    "fig = plt.figure(figsize=(15,8))\n",
    "ax = fig.add_subplot(111)\n",
    "plot_points(ax, x, np.argmax(z, axis=1), mus=mus, sigmas=2 * sigmas, points_alpha=.5)\n",
    "plt.show()"
   ]
  },
  {
   "cell_type": "code",
   "execution_count": null,
   "metadata": {},
   "outputs": [],
   "source": [
    "pis, mus, sigmas = m_step(x, z)\n",
    "z = e_step( x, pis, mus, sigmas)\n",
    "\n",
    "fig = plt.figure(figsize=(15,8))\n",
    "ax = fig.add_subplot(111)\n",
    "plot_points(ax, x, np.argmax(z, axis=1), mus=mus, sigmas=2 * sigmas, points_alpha=.5)\n",
    "plt.show()"
   ]
  },
  {
   "cell_type": "code",
   "execution_count": null,
   "metadata": {},
   "outputs": [],
   "source": [
    "pis"
   ]
  },
  {
   "cell_type": "code",
   "execution_count": null,
   "metadata": {
    "scrolled": false
   },
   "outputs": [],
   "source": [
    "k = 20\n",
    "mus = x[ np.random.choice(x.shape[0], size=k, replace=False), : ]\n",
    "sigmas = np.array( [ np.identity(2) for _ in range(k) ] )\n",
    "pis = (1./k) * np.ones(k)\n",
    "z = e_step( x, pis, mus, sigmas)\n",
    "\n",
    "## EM-алгоритм\n",
    "old_logl, new_logl = -np.inf, -np.inf\n",
    "for iIter in range(5000):\n",
    "    old_logl = new_logl\n",
    "    z = e_step( x, pis, mus, sigmas)\n",
    "    # print(z)\n",
    "    new_pis, new_mus, new_sigmas = m_step(x, z)\n",
    "    fig = plt.figure(figsize=(15,8))\n",
    "    ax = fig.add_subplot(111)\n",
    "    plot_points(ax, x, np.argmax(z, axis=1), mus=new_mus, sigmas=2 * new_sigmas, points_alpha=.5)\n",
    "    plt.show()\n",
    "    pis, mus, sigmas = new_pis, new_mus, new_sigmas\n",
    "    new_logl = loglikelihood(x, pis, mus, sigmas)\n",
    "    print(\"Логарифм правдоподобия на итерации %03d: %.6f\" % (iIter, new_logl) )\n",
    "    if np.abs(new_logl - old_logl) < 0.01:\n",
    "        break\n",
    "\n",
    "print(\"После %d итераций правдоподобие = %.6f\" % (iIter, new_logl) )"
   ]
  },
  {
   "cell_type": "code",
   "execution_count": null,
   "metadata": {},
   "outputs": [],
   "source": [
    "print(pis)\n",
    "fig = plt.figure(figsize=(15,8))\n",
    "ax = fig.add_subplot(111)\n",
    "plot_points(ax, x, np.argmax(z, axis=1), mus=new_mus, sigmas=2 * new_sigmas, points_alpha=.5)\n",
    "plt.show()"
   ]
  },
  {
   "cell_type": "code",
   "execution_count": null,
   "metadata": {},
   "outputs": [],
   "source": [
    "likelihoods = {}\n",
    "\n",
    "for k in range(2, 10):\n",
    "    mus = x[ np.random.choice(x.shape[0], size=k, replace=False), : ]\n",
    "    sigmas = np.array( [ np.identity(2) for _ in range(k) ] )\n",
    "    pis = (1./k) * np.ones(k)\n",
    "\n",
    "    ## EM-алгоритм\n",
    "    old_logl, new_logl = -np.inf, -np.inf\n",
    "    for iIter in range(50000):\n",
    "        old_logl = new_logl\n",
    "        z = e_step( x, pis, mus, sigmas)\n",
    "        new_pis, new_mus, new_sigmas = m_step(x, z)\n",
    "        pis, mus, sigmas = new_pis, new_mus, new_sigmas\n",
    "        new_logl = loglikelihood(x, pis, mus, sigmas)\n",
    "        if np.abs(new_logl - old_logl) < 0.00001:\n",
    "            break\n",
    "    print(\"k = %d\\tПравдоподобие = %.6f\" % (k, new_logl) )\n",
    "    likelihoods[k] = new_logl"
   ]
  },
  {
   "cell_type": "code",
   "execution_count": null,
   "metadata": {},
   "outputs": [],
   "source": [
    "def BIC(ll, N, d):\n",
    "    return -2*ll + np.log(N)*d\n",
    "\n",
    "def AIC(ll, N, d):\n",
    "    if N > d+1:\n",
    "        return -2*ll + 2*d + (2*d*d+2*d) / (N - d - 1)\n",
    "    else:\n",
    "        return -2*ll + 2*d + (2*d*d+2*d)"
   ]
  },
  {
   "cell_type": "code",
   "execution_count": null,
   "metadata": {},
   "outputs": [],
   "source": [
    "logLs = [ likelihoods[k] for k in sorted(likelihoods.keys()) ]\n",
    "bics = [ BIC(likelihoods[k], x.shape[0], k-1 + k*( 2 + 3 ) ) for k in sorted(likelihoods.keys()) ]\n",
    "aics = [ AIC(likelihoods[k], x.shape[0], k-1 + k*( 2 + 3 )  ) for k in sorted(likelihoods.keys()) ]\n",
    "\n",
    "print(\"Логарифмы правдоподобий:\\n%s\" % logLs)\n",
    "print(\"Значения AIC:\\n%s\" % aics)\n",
    "print(\"Значения BIC:\\n%s\" % bics)\n",
    "fig = plt.figure(figsize=figsize)\n",
    "ax = fig.add_subplot(111)\n",
    "ax.plot(sorted(likelihoods.keys()), logLs, label=\"Log likelihood\")\n",
    "ax.plot(sorted(likelihoods.keys()), aics, label=\"AIC\")\n",
    "ax.plot(sorted(likelihoods.keys()), bics, label=\"BIC\")\n",
    "ax.legend(fontsize=legend_fontsize)\n",
    "# ax.set_ylim((-320, 800))\n",
    "plt.show()"
   ]
  },
  {
   "cell_type": "markdown",
   "metadata": {},
   "source": [
    "## EM для кластеризации строк"
   ]
  },
  {
   "cell_type": "code",
   "execution_count": null,
   "metadata": {},
   "outputs": [],
   "source": [
    "hamming_distance = lambda w1, w2: sum(s1 != s2 for s1, s2 in zip(w1, w2))\n",
    "hamming_distance = np.vectorize(hamming_distance)\n",
    "\n",
    "whole_wordset = Counter()\n",
    "iLine = 0\n",
    "with open('/media/snikolenko/2/datasets/wiki.processed') as f:\n",
    "    for line in f:\n",
    "        iLine += 1\n",
    "        whole_wordset.update(line.split())\n",
    "        if iLine == 10000:\n",
    "            break"
   ]
  },
  {
   "cell_type": "code",
   "execution_count": null,
   "metadata": {},
   "outputs": [],
   "source": [
    "m = 7\n",
    "wordset = { k : v for k,v in whole_wordset.items() if len(k) == m }\n",
    "all_words = np.array([k for k in wordset])"
   ]
  },
  {
   "cell_type": "code",
   "execution_count": null,
   "metadata": {},
   "outputs": [],
   "source": [
    "all_words[:100]"
   ]
  },
  {
   "cell_type": "code",
   "execution_count": null,
   "metadata": {},
   "outputs": [],
   "source": [
    "seed_words = np.random.choice([ w for w in all_words if whole_wordset[w] > 20], 20, replace=False)\n",
    "print(sorted(seed_words))"
   ]
  },
  {
   "cell_type": "code",
   "execution_count": null,
   "metadata": {},
   "outputs": [],
   "source": [
    "words = np.array([ w for w in all_words if np.min(hamming_distance(w, seed_words)) < 3 ])"
   ]
  },
  {
   "cell_type": "code",
   "execution_count": null,
   "metadata": {},
   "outputs": [],
   "source": [
    "symbols = np.array([ a for a in set([ s for w in words for s in w ])])\n",
    "smap = { v : i for (i, v) in enumerate(symbols) }\n",
    "iwords = np.array([[smap[s] for s in w] for w in words])\n",
    "ns = len(symbols)"
   ]
  },
  {
   "cell_type": "code",
   "execution_count": null,
   "metadata": {
    "scrolled": true
   },
   "outputs": [],
   "source": [
    "ns, sorted(seed_words), sorted(words)"
   ]
  },
  {
   "cell_type": "code",
   "execution_count": null,
   "metadata": {},
   "outputs": [],
   "source": [
    "k = 8\n",
    "num_samples = 2\n",
    "sample_words = words[ np.random.choice(words.shape[0], size=num_samples*k, replace=False) ]\n",
    "ps = (1./float(ns)) * np.ones(shape=(k, m, ns))\n",
    "for i in range(k):\n",
    "    for j in range(num_samples):\n",
    "        for iS, s in enumerate(sample_words[num_samples*i + j]):\n",
    "            ps[i, iS, smap[s]] += 1\n",
    "ps_sums = np.sum(ps, axis=2)\n",
    "for i in range(ps.shape[0]):\n",
    "    for j in range(ps.shape[1]):\n",
    "        ps[i, j, :] = ps[i, j, :] / ps_sums[i, j]\n",
    "pis = (1./k) * np.ones(k)"
   ]
  },
  {
   "cell_type": "code",
   "execution_count": null,
   "metadata": {},
   "outputs": [],
   "source": [
    "def e_step(xs, pis, logps):\n",
    "    z = np.sum( np.array([ [logps[:, i, iwords[j][i]] for i in range(m)] for j in range(iwords.shape[0]) ]), axis = 1 ) + np.log(pis)\n",
    "    z = z - np.logaddexp.reduce(z, axis=1).reshape(-1, 1)\n",
    "    return z\n",
    "\n",
    "def m_step(iwords, zs):\n",
    "    z = np.exp(zs)\n",
    "    pis = np.sum(z, axis=0) / np.sum(z)\n",
    "    new_ps = np.ones(shape=(k, m, ns))\n",
    "    for i in range(iwords.shape[0]):\n",
    "        for ik in range(k):\n",
    "            for im in range(m):\n",
    "                new_ps[ik, im, iwords[i][im]] += z[i, ik]\n",
    "    new_ps = np.divide( new_ps, np.sum( new_ps, axis = 2 ).reshape(k, m, 1) )\n",
    "    return pis, new_ps\n",
    "\n",
    "def print_clusters(z):\n",
    "    zs = np.exp(z)\n",
    "    for ik in range(k):\n",
    "        print(\"Кластер %d:\\n%s\\n\" % (ik, \" \".join(np.sort([words[i] for i in range(z.shape[0]) if (zs[i, ik] > 0.7)]))))"
   ]
  },
  {
   "cell_type": "code",
   "execution_count": null,
   "metadata": {},
   "outputs": [],
   "source": [
    "## один шаг EM-алгоритма; повторять по необходимости\n",
    "z = e_step(iwords, pis, np.log(ps))\n",
    "pis, ps = m_step(iwords, z)\n",
    "print(pis)\n",
    "print_clusters(z)"
   ]
  },
  {
   "cell_type": "code",
   "execution_count": null,
   "metadata": {
    "scrolled": false
   },
   "outputs": [],
   "source": [
    "for iIter in range(5):\n",
    "    print(\"\\n\\n\\t=== Итерация %d ===\\n\" % iIter)\n",
    "    z = e_step(iwords, pis, np.log(ps))\n",
    "    pis, ps = m_step(iwords, z)\n",
    "    print(pis)\n",
    "    print_clusters(z)"
   ]
  },
  {
   "cell_type": "code",
   "execution_count": null,
   "metadata": {},
   "outputs": [],
   "source": []
  }
 ],
 "metadata": {
  "kernelspec": {
   "display_name": "Python 3",
   "language": "python",
   "name": "python3"
  },
  "language_info": {
   "codemirror_mode": {
    "name": "ipython",
    "version": 3
   },
   "file_extension": ".py",
   "mimetype": "text/x-python",
   "name": "python",
   "nbconvert_exporter": "python",
   "pygments_lexer": "ipython3",
   "version": "3.8.0"
  }
 },
 "nbformat": 4,
 "nbformat_minor": 1
}
