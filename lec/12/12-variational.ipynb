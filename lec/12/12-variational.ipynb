{
 "cells": [
  {
   "cell_type": "code",
   "execution_count": null,
   "metadata": {},
   "outputs": [],
   "source": [
    "import pandas as pd\n",
    "import numpy as np\n",
    "import matplotlib as mpl\n",
    "import matplotlib.pyplot as plt\n",
    "import seaborn as sns\n",
    "import warnings\n",
    "warnings.filterwarnings('ignore')\n",
    "from collections import OrderedDict\n",
    "from time import time\n",
    "\n",
    "import numpy as np\n",
    "import scipy as sp\n",
    "import pandas as pd\n",
    "\n",
    "from scipy.optimize import fmin_powell\n",
    "from scipy import integrate\n",
    "from scipy import linalg\n",
    "\n",
    "from sklearn.preprocessing import normalize\n",
    "from sklearn import linear_model\n",
    "from sklearn.utils.testing import ignore_warnings\n",
    "from sklearn.exceptions import ConvergenceWarning\n",
    "\n",
    "np.set_printoptions(precision=4, suppress=True)\n",
    "\n",
    "from collections import Counter\n",
    "from Levenshtein import distance as levenshtein_distance\n",
    "\n",
    "sns.set_style(\"whitegrid\")\n",
    "sns.set_palette(\"colorblind\")\n",
    "palette = sns.color_palette()\n",
    "figsize = (15,8)\n",
    "legend_fontsize = 16\n",
    "\n",
    "from matplotlib import rc\n",
    "rc('font',**{'family':'sans-serif'})\n",
    "rc('text', usetex=True)\n",
    "rc('text.latex',preamble=r'\\usepackage[utf8]{inputenc}')\n",
    "rc('text.latex',preamble=r'\\usepackage[russian]{babel}')\n",
    "rc('axes', **{'titlesize': '16', 'labelsize': '16'})\n",
    "rc('legend', **{'fontsize': '16'})\n",
    "rc('figure', **{'dpi' : 200})"
   ]
  },
  {
   "cell_type": "markdown",
   "metadata": {},
   "source": [
    "## Вариационный вывод в смеси гауссианов"
   ]
  },
  {
   "cell_type": "code",
   "execution_count": null,
   "metadata": {},
   "outputs": [],
   "source": [
    "true_K = 3\n",
    "mu_arr = np.random.random(true_K) * 20 - 10\n",
    "sigma_arr = np.random.random(true_K) * 1 + 0.5\n",
    "print(\"Средние: %s\\nДисперсии: %s\" % (mu_arr, sigma_arr))"
   ]
  },
  {
   "cell_type": "code",
   "execution_count": null,
   "metadata": {},
   "outputs": [],
   "source": [
    "each_N = 200\n",
    "N = true_K * each_N\n",
    "X = np.hstack( [ np.random.normal(loc=mu_arr[i], scale=sigma_arr[i], size=each_N) for i in range(true_K) ] )"
   ]
  },
  {
   "cell_type": "code",
   "execution_count": null,
   "metadata": {},
   "outputs": [],
   "source": [
    "def sample_from_mixture(k, n, pi, mu, sigma):\n",
    "    z = np.random.choice(k, n, p=pi)\n",
    "    return np.random.normal(mu[z], sigma[z])"
   ]
  },
  {
   "cell_type": "code",
   "execution_count": null,
   "metadata": {},
   "outputs": [],
   "source": [
    "fig, ax = plt.subplots(figsize=(12, 6))\n",
    "sns.distplot(X, hist=True, color='0.2', kde=True, bins=100, label=\"Эмпирическая плотность\")\n",
    "sns.distplot(sample_from_mixture(true_K, 200*each_N, np.ones(true_K) / float(true_K), mu_arr, sigma_arr), hist=False, kde=True, label=\"Плотность смеси\")\n",
    "ax.set_ylabel(\"Плотность распределения\")\n",
    "ax.legend()\n",
    "# fig.savefig('varmixture1.pdf', bbox_inches='tight')"
   ]
  },
  {
   "cell_type": "code",
   "execution_count": null,
   "metadata": {},
   "outputs": [],
   "source": [
    "## обновляем r_nk в вариационном выводе\n",
    "def update_r(X, alpha, beta, m, a, b):\n",
    "    rho = np.zeros((N, K))\n",
    "    rho = rho + sp.special.digamma(alpha) - sp.special.digamma(np.sum(alpha)) \\\n",
    "        + .5 * (sp.special.digamma(a) - np.log(b)) \\\n",
    "        - .5 * np.log(2*np.pi) \\\n",
    "        - .5 / beta - a * (X[:,np.newaxis] - m)**2 / (2*b)\n",
    "    r = np.exp(rho - np.logaddexp.reduce(rho, axis=1)[:,np.newaxis])\n",
    "    return r\n",
    "\n",
    "## обновляем параметры в вариационном выводе\n",
    "def update_params(X, r, alpha, beta, m, a, b):\n",
    "    N_k = np.sum(r, axis=0)\n",
    "    Sum_k = np.sum(r * X[:,np.newaxis], axis=0)\n",
    "    Sumsq_k = np.sum(r * (X[:,np.newaxis] ** 2), axis=0)\n",
    "    new_alpha = alpha + N_k\n",
    "    new_beta = beta + N_k\n",
    "    new_m = ( beta * m + Sum_k ) / new_beta\n",
    "    new_a = a + .5 * N_k\n",
    "    new_b = b + .5 * (beta * (m**2) + Sumsq_k - new_beta * (new_m**2) )\n",
    "    return new_alpha, new_beta, new_m, new_a, new_b"
   ]
  },
  {
   "cell_type": "code",
   "execution_count": null,
   "metadata": {},
   "outputs": [],
   "source": [
    "print(\"Истинные средние:\\t%s\\n\" % mu_arr)\n",
    "\n",
    "K = 3\n",
    "\n",
    "## Инициализируем параметры модели\n",
    "alpha_0 = np.ones(K) * 0.01\n",
    "alpha = alpha_0\n",
    "beta = np.ones(K)\n",
    "m = np.random.random(K) * (X.max() - X.min()) + X.min()\n",
    "a = np.ones(K)\n",
    "b = np.ones(K)\n",
    "\n",
    "param_history = [(alpha, beta, m, a, b)]\n",
    "\n",
    "print(\"Начальные значения:\\tm = %s\\tbeta = %s\\ta = %s\\tb = %s\" % (m, beta, a, b))\n",
    "\n",
    "eps = 0.01\n",
    "for nIter in range(10000):\n",
    "    r = update_r(X, alpha, beta, m, a, b)\n",
    "    alpha, beta, m, a, b = update_params(X, r, alpha, beta, m, a, b)\n",
    "    param_history.append((alpha, beta, m, a, b))\n",
    "#     elbo_values.append(0) # elbo(X, m, s2, r))\n",
    "    if nIter % 1000 == 0:\n",
    "        print(\"\\t%d:\\tm = %s\\talpha = %s\" % (nIter, m, alpha))\n",
    "#     if np.abs(elbo_values[-2] - elbo_values[-1]) <= eps:\n",
    "#         break\n",
    "\n",
    "print(\"\\nПосле %d итераций:\\tm = %s\\talpha = %s\" % (nIter, m, alpha))"
   ]
  },
  {
   "cell_type": "code",
   "execution_count": null,
   "metadata": {},
   "outputs": [],
   "source": [
    "print(\"alpha/sum(alpha) = %s\" % (alpha / np.sum(alpha)))\n",
    "print(\"m = %s\" % m)\n",
    "print(\"a = %s\" % a)\n",
    "print(\"b = %s\" % b)\n",
    "print(\"sqrt(b/a) = %s\" % (1 / np.sqrt(a / b)))"
   ]
  },
  {
   "cell_type": "code",
   "execution_count": null,
   "metadata": {},
   "outputs": [],
   "source": [
    "## ожидаемый вес в каждом кластере\n",
    "expected_pi = alpha / np.sum(alpha)\n",
    "expected_pi"
   ]
  },
  {
   "cell_type": "code",
   "execution_count": null,
   "metadata": {},
   "outputs": [],
   "source": [
    "fig, ax = plt.subplots(figsize=(12, 6))\n",
    "sns.distplot(X, hist=True, color='0.2', kde=True, bins=100, label=\"Эмпирическая плотность\")\n",
    "sns.distplot(sample_from_mixture(true_K, 50*each_N, np.ones(true_K) / float(true_K), mu_arr, np.ones(true_K)), hist=False, kde=True, label=\"Плотность смеси\")\n",
    "sns.distplot(sample_from_mixture(K, 50*each_N, expected_pi, m, 1 / np.sqrt(a/b)), hist=False, kde=True, label=\"Апостериорная плотность\")\n",
    "ax.set_ylabel(\"Плотность распределения\")\n",
    "ax.legend()\n",
    "# fig.savefig('varmixture2.pdf', bbox_inches='tight')"
   ]
  },
  {
   "cell_type": "code",
   "execution_count": null,
   "metadata": {},
   "outputs": [],
   "source": [
    "print(\"Истинные средние:\\t%s\\n\" % mu_arr)\n",
    "\n",
    "K = 6\n",
    "\n",
    "## Инициализируем параметры модели\n",
    "alpha_0 = np.ones(K) * 0.0001\n",
    "alpha = alpha_0\n",
    "beta = np.ones(K)\n",
    "m = np.random.random(K) * (X.max() - X.min()) + X.min()\n",
    "a = np.ones(K)\n",
    "b = np.ones(K)\n",
    "\n",
    "param_history = [(alpha, beta, m, a, b)]\n",
    "\n",
    "print(\"Начальные значения:\\tm = %s\\tbeta = %s\" % (m, beta))\n",
    "\n",
    "eps = 0.01\n",
    "for nIter in range(10000):\n",
    "    r = update_r(X, alpha, beta, m, a, b)\n",
    "    alpha, beta, m, a, b = update_params(X, r, alpha, beta, m, a, b)\n",
    "    param_history.append((alpha, beta, m, a, b))\n",
    "    if nIter % 1000 == 0:\n",
    "        print(\"\\t%d:\\tm = %s\\talpha = %s\" % (nIter, m, alpha / sum(alpha)))\n",
    "#     if np.abs(elbo_values[-2] - elbo_values[-1]) <= eps:\n",
    "#         break\n",
    "\n",
    "print(\"\\nПосле %d итераций:\\tm = %s\\talpha = %s\" % (nIter, m, alpha / sum(alpha)))"
   ]
  },
  {
   "cell_type": "code",
   "execution_count": null,
   "metadata": {},
   "outputs": [],
   "source": [
    "print(\"alpha/sum(alpha) = %s\" % (alpha / np.sum(alpha)))\n",
    "print(\"m = %s\" % m)\n",
    "print(\"a = %s\" % a)\n",
    "print(\"b = %s\" % b)\n",
    "print(\"sqrt(b/a) = %s\" % (1 / np.sqrt(a / b)))"
   ]
  },
  {
   "cell_type": "code",
   "execution_count": null,
   "metadata": {},
   "outputs": [],
   "source": [
    "fig, ax = plt.subplots(figsize=(12, 6))\n",
    "sns.distplot(X, hist=True, color='0.2', kde=True, bins=100, label=\"Эмпирическая плотность\")\n",
    "sns.distplot(sample_from_mixture(true_K, 50*each_N, np.ones(true_K) / float(true_K), mu_arr, np.ones(true_K)), hist=False, kde=True, label=\"Плотность смеси\")\n",
    "sns.distplot(sample_from_mixture(K, 50*each_N, (alpha / np.sum(alpha)), m, 1 / np.sqrt(a/b)), hist=False, kde=True, label=\"Апостериорная плотность\")\n",
    "ax.set_ylabel(\"Плотность распределения\")\n",
    "ax.legend()\n",
    "# fig.savefig('varmixture3.pdf', bbox_inches='tight')"
   ]
  },
  {
   "cell_type": "code",
   "execution_count": null,
   "metadata": {},
   "outputs": [],
   "source": []
  }
 ],
 "metadata": {
  "kernelspec": {
   "display_name": "Python 3",
   "language": "python",
   "name": "python3"
  },
  "language_info": {
   "codemirror_mode": {
    "name": "ipython",
    "version": 3
   },
   "file_extension": ".py",
   "mimetype": "text/x-python",
   "name": "python",
   "nbconvert_exporter": "python",
   "pygments_lexer": "ipython3",
   "version": "3.8.5"
  }
 },
 "nbformat": 4,
 "nbformat_minor": 1
}
