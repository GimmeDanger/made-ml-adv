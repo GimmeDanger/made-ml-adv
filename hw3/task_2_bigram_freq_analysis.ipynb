{
 "cells": [
  {
   "cell_type": "markdown",
   "id": "219533bd",
   "metadata": {},
   "source": [
    "### Часть 2: Попробуйте частотный анализ для биграм\n",
    "\n",
    "Вряд ли в части 1 получилась такая уж хорошая расшифровка, разве что если вы брали в качестве тестовых данных целые рассказы. Но и Шерлок Холмс был не так уж прост: после буквы E, которая действительно выделяется частотой, дальше он анализировал уже конкретные слова и пытался угадать, какими они могли бы быть. Я не знаю, как запрограммировать такой интуитивный анализ, так что давайте просто сделаем следующий логический шаг:\n",
    "\n",
    "* подсчитайте частоты биграмм (т.е. пар последовательных букв) по корпусам;\n",
    "* проведите тестирование аналогично п. 1, но при помощи биграмм. \n",
    "\n",
    "В качестве естественной метрики качества можно взять долю правильно расшифрованных букв или, если хочется совсем математически изощриться, расстояние между двумя перестановками, правильной и полученной из модели; но, честно говоря, в этом задании следить за численными метриками не так уж обязательно, будет и глазами всё видно."
   ]
  },
  {
   "cell_type": "code",
   "execution_count": 1,
   "id": "70b0b259",
   "metadata": {},
   "outputs": [],
   "source": [
    "import numpy as np\n",
    "from nltk import ngrams\n",
    "from collections import Counter\n",
    "\n",
    "from utils import get_corpus, clean_text, encode_mapping, apply_mapping, ngram_freq_dict, accuracy\n",
    "\n",
    "np.random.seed(5012)"
   ]
  },
  {
   "cell_type": "code",
   "execution_count": 2,
   "id": "7b10483f",
   "metadata": {},
   "outputs": [],
   "source": [
    "corpus = get_corpus()\n",
    "text = clean_text('Сама того не желая, Анна всем приносит несчастье. И Каренину, который говорит: «я убит, я разбит, я не человек больше», и Вронскому, который признается: «как человек – я развалина», и самой себе: «была ли когда-нибудь женщина так несчастна, как я», – восклицает она. И то, что она бросается поперек дороги под колеса неумолимо надвигающегося на нее вагона, тоже получило в романе символический смысл. Конечно, смысл трагедии не в самой железной дороге… Но «звезда Полынь» заключала в себе такой заряд современной поэзии, что Толстой, как поэт и романист, не мог пренебречь ее художественными возможностями.')"
   ]
  },
  {
   "cell_type": "code",
   "execution_count": 3,
   "id": "a9e7d19f",
   "metadata": {},
   "outputs": [],
   "source": [
    "freqs = ngram_freq_dict(corpus, n_gram=1)\n",
    "encoded_text = apply_mapping(text, encode_mapping(freqs))"
   ]
  },
  {
   "cell_type": "code",
   "execution_count": 4,
   "id": "b4b72ae5",
   "metadata": {},
   "outputs": [],
   "source": [
    "corpus_freqs_bigram = ngram_freq_dict(corpus, n_gram=2)\n",
    "text_freqs_bigram = ngram_freq_dict(encoded_text, n_gram=2)"
   ]
  },
  {
   "cell_type": "code",
   "execution_count": 10,
   "id": "98990e6f",
   "metadata": {},
   "outputs": [],
   "source": [
    "def create_decode_mapping_ngram(corpus_freqs, text_freqs, ngram):\n",
    "    decode_mapping = {}\n",
    "    used_corpus_ngrams = set()\n",
    "    for text_ngram, text_ngram_freq in text_freqs.items():\n",
    "        # check if already decoded\n",
    "        decoded_ngram = [c if c in decode_mapping else None for c in text_ngram]\n",
    "        if None not in decoded_ngram:\n",
    "            continue\n",
    "        \n",
    "        # find best match (closest freq) in group of simular ngrams\n",
    "        min_diff = 1\n",
    "        best_freq = None\n",
    "        best_ngram = None\n",
    "        for corpus_ngram, corpus_ngram_freq in corpus_freqs.items():\n",
    "            # skip if ngram has been used before\n",
    "            if corpus_ngram in used_corpus_ngrams:\n",
    "                continue\n",
    "            # skip if bigram is simular\n",
    "            skip_cond = False\n",
    "            for i in range(ngram):\n",
    "                if (decoded_ngram[i] is not None and decoded_ngram[i] != corpus_ngram[i]):\n",
    "                    skip_cond = True\n",
    "                if (decoded_ngram[i] is None and corpus_ngram[i] in decode_mapping.values()):\n",
    "                    skip_cond = True\n",
    "            if skip_cond:\n",
    "                continue\n",
    "            # choose closest from the rest\n",
    "            diff = abs(corpus_ngram_freq - text_ngram_freq)\n",
    "            if diff < min_diff:\n",
    "                best_ngram = corpus_ngram\n",
    "                best_freq = corpus_ngram_freq\n",
    "                min_diff = diff\n",
    "\n",
    "        # save seen ngram\n",
    "        used_corpus_ngrams.add(best_ngram)\n",
    "        \n",
    "        # save best result\n",
    "        for j in range(ngram):\n",
    "            if best_ngram is not None and text_ngram[j] not in decode_mapping:\n",
    "                decode_mapping[text_ngram[j]] = best_ngram[j]\n",
    "\n",
    "    return decode_mapping"
   ]
  },
  {
   "cell_type": "code",
   "execution_count": 11,
   "id": "d3a792d3",
   "metadata": {},
   "outputs": [
    {
     "data": {
      "text/plain": [
       "'чояо нака се зепоы оссо лчея тьисачин сечшочнэе и доьесисй данаьюу калаьин ы ймин ы ьоцмин ы се шепалед мапэбе и льасчдаяй данаьюу тьицсоенчы дод шепалед ы ьоцлописо и чояау чеме мюпо пи даквосимйвэ зесжисо нод сечшочнсо дод ы лачдпироен асо и на шна асо мьачоенчы татеьед ваьаки тав дапечо сейяапияа совликощжекачы со сее локасо назе тапйшипа л ьаяосе чиялапишечдиу чяючп дасешса чяючп ньокевии се л чояау зепецсау ваьаке са цлецво тапюсэ цодпщшопо л чеме нодау цоьыв чальеяессау тагции шна напчнау дод тагн и ьаяосичн се яак тьесемьешэ ее фйвазечнлессюяи лацяазсачныяи'"
      ]
     },
     "execution_count": 11,
     "metadata": {},
     "output_type": "execute_result"
    }
   ],
   "source": [
    "decode_mapping = create_decode_mapping_ngram(corpus_freqs_bigram, text_freqs_bigram, 2)\n",
    "decoded_text = apply_mapping(encoded_text, decode_mapping)\n",
    "decoded_text"
   ]
  },
  {
   "cell_type": "code",
   "execution_count": 8,
   "id": "74e9810b",
   "metadata": {},
   "outputs": [
    {
     "data": {
      "text/plain": [
       "'сама того не желая анна всем приносит несчастье и каренину который говорит я убит я разбит я не человек больше и вронскому который признается как человек я развалина и самой себе была ли когданибудь женщина так несчастна как я восклицает она и то что она бросается поперек дороги под колеса неумолимо надвигающегося на нее вагона тоже получило в романе символический смысл конечно смысл трагедии не в самой железной дороге но звезда полынь заключала в себе такой заряд современной поэзии что толстой как поэт и романист не мог пренебречь ее художественными возможностями'"
      ]
     },
     "execution_count": 8,
     "metadata": {},
     "output_type": "execute_result"
    }
   ],
   "source": [
    "text"
   ]
  },
  {
   "cell_type": "code",
   "execution_count": 9,
   "id": "7ff75714",
   "metadata": {},
   "outputs": [
    {
     "data": {
      "text/plain": [
       "0.2964912280701754"
      ]
     },
     "execution_count": 9,
     "metadata": {},
     "output_type": "execute_result"
    }
   ],
   "source": [
    "accuracy(text, decoded_text)"
   ]
  }
 ],
 "metadata": {
  "kernelspec": {
   "display_name": "Python 3",
   "language": "python",
   "name": "python3"
  },
  "language_info": {
   "codemirror_mode": {
    "name": "ipython",
    "version": 3
   },
   "file_extension": ".py",
   "mimetype": "text/x-python",
   "name": "python",
   "nbconvert_exporter": "python",
   "pygments_lexer": "ipython3",
   "version": "3.8.10"
  }
 },
 "nbformat": 4,
 "nbformat_minor": 5
}
